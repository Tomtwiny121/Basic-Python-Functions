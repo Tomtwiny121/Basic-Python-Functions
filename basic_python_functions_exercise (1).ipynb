{
  "cells": [
    {
      "cell_type": "markdown",
      "metadata": {
        "id": "hmF2E21xGDOS"
      },
      "source": [
        "<div align=\"center\" style=\" font-size: 80%; text-align: center; margin: 0 auto\">\n",
        "<img src=\"https://raw.githubusercontent.com/Explore-AI/Pictures/master/Python-Notebook-Banners/Exercise.png\"  style=\"display: block; margin-left: auto; margin-right: auto;\";/>\n",
        "</div>"
      ],
      "id": "hmF2E21xGDOS"
    },
    {
      "cell_type": "markdown",
      "id": "f662d169",
      "metadata": {
        "id": "f662d169"
      },
      "source": [
        "# Exercise: Basic Python functions\n",
        "© ExploreAI Academy"
      ]
    },
    {
      "cell_type": "markdown",
      "id": "26af890c",
      "metadata": {
        "id": "26af890c"
      },
      "source": [
        "In this exercise, we will explore the fundamental concepts of Python functions and how they can be used in practice. We will be led through hands-on coding exercises that will emphasise basic concepts related to building simple functions and utilising built-in functions."
      ]
    },
    {
      "cell_type": "markdown",
      "id": "2d230d14",
      "metadata": {
        "tags": [],
        "id": "2d230d14"
      },
      "source": [
        "## Learning objectives\n",
        "\n",
        "By the end of this exercise, you should be able to:\n",
        "- Understand how to use basic built-in functions.\n",
        "- Create user-defined functions based on specific needs."
      ]
    },
    {
      "cell_type": "markdown",
      "metadata": {
        "id": "HO4vV1i3GDOX"
      },
      "source": [
        "## Exercises"
      ],
      "id": "HO4vV1i3GDOX"
    },
    {
      "cell_type": "markdown",
      "id": "5a0b7683",
      "metadata": {
        "tags": [],
        "id": "5a0b7683"
      },
      "source": [
        "### Exercise 1\n",
        "\n",
        "Given a list of deforested land in hectares over five years, calculate the total carbon emission over the years using built-in functions.\n",
        "\n",
        " Total carbon emissions are calculated by adding the hectares of deforested land and multiplying the total by a given carbon emissions factor of 40.\n",
        "\n",
        " Hint:\n",
        " * Create a variable called `total_deforested_land`, the result of adding the hectares of the deforested land using the `sum` function.\n",
        " * Create a variable called `total_carbon_emission`, the result of multiplying the `total_deforested_land` variable with the carbon emissions factor."
      ]
    },
    {
      "cell_type": "code",
      "execution_count": null,
      "id": "788218d7",
      "metadata": {
        "id": "788218d7"
      },
      "outputs": [],
      "source": [
        "# Deforested land for each year\n",
        "deforested_land = [10, 15, 8, 12, 20]\n",
        "\n",
        "# Carbon emission factor (tons of CO2 per hectare)\n",
        "carbon_emission_factor = 40\n",
        "\n",
        "# Your code here...\n",
        "\n",
        "# Calculate the total deforested land\n",
        "total_deforested_land = sum(deforested_land)\n",
        "\n",
        "# Calculate the total carbon emission\n",
        "total_carbon_emission = total_deforested_land * carbon_emission_factor\n"
      ]
    },
    {
      "cell_type": "markdown",
      "id": "fd52109b",
      "metadata": {
        "id": "fd52109b"
      },
      "source": [
        "Print the `total_deforested_land` and `total_carbon_emission` variables."
      ]
    },
    {
      "cell_type": "code",
      "execution_count": null,
      "metadata": {
        "colab": {
          "base_uri": "https://localhost:8080/"
        },
        "id": "ZkzjnmOUGDOZ",
        "outputId": "59994646-2402-41da-f52a-cff5c4f89702"
      },
      "outputs": [
        {
          "output_type": "stream",
          "name": "stdout",
          "text": [
            "Total Deforested Land: 65 hectares\n",
            "Total Carbon Emission: 2600 tons of CO2\n"
          ]
        }
      ],
      "source": [
        "# Your code here...\n",
        "# Display the results\n",
        "print(\"Total Deforested Land:\", total_deforested_land, \"hectares\")\n",
        "print(\"Total Carbon Emission:\", total_carbon_emission, \"tons of CO2\")"
      ],
      "id": "ZkzjnmOUGDOZ"
    },
    {
      "cell_type": "markdown",
      "metadata": {
        "id": "QYhK0z02GDOZ"
      },
      "source": [
        "### Exercise 2\n",
        "\n",
        "Create a function named `acres_to_hectares` that accepts a parameter of the area of a forest in acres and returns the corresponding area in hectares by multiplying the acres by a conversion rate of 0.404686.\n",
        "\n",
        "Remember to include the doc strings of the function."
      ],
      "id": "QYhK0z02GDOZ"
    },
    {
      "cell_type": "code",
      "execution_count": null,
      "metadata": {
        "colab": {
          "base_uri": "https://localhost:8080/"
        },
        "id": "Nq9PGq94GDOZ",
        "outputId": "29395caa-2649-4200-855e-496a494f4870"
      },
      "outputs": [
        {
          "output_type": "stream",
          "name": "stdout",
          "text": [
            "Acres of Land Converted: 26.30459 hectares\n"
          ]
        }
      ],
      "source": [
        "# Your code here...\n",
        "acres_to_hectares = total_deforested_land * 0.404686\n",
        "print(\"Acres of Land Converted:\", acres_to_hectares, \"hectares\")"
      ],
      "id": "Nq9PGq94GDOZ"
    },
    {
      "cell_type": "markdown",
      "id": "8bcc8c85",
      "metadata": {
        "id": "8bcc8c85"
      },
      "source": [
        "Use the function above to convert a forest area of 50 acres to hectares."
      ]
    },
    {
      "cell_type": "code",
      "execution_count": null,
      "id": "4d81db66",
      "metadata": {
        "colab": {
          "base_uri": "https://localhost:8080/"
        },
        "id": "4d81db66",
        "outputId": "a931cf27-c268-42fb-861c-5463fe45741d"
      },
      "outputs": [
        {
          "output_type": "stream",
          "name": "stdout",
          "text": [
            "Forest area converted: 20.2343 hectares\n"
          ]
        }
      ],
      "source": [
        "# Your code here...\n",
        "forest_area = 50 * 0.404686\n",
        "print(\"Forest area converted:\", forest_area, \"hectares\")"
      ]
    },
    {
      "cell_type": "markdown",
      "id": "808a6af5",
      "metadata": {
        "id": "808a6af5"
      },
      "source": [
        "### Exercise 3\n",
        "\n",
        "Using the data representing the deforested land in hectares over the years, calculate and print the average deforested land using the `sum` and `len` built-in functions.\n",
        "\n",
        "Hint:\n",
        "* Create a variable called `average_deforested_land` by adding the hectares of the deforested land together using the `sum` function and then dividing it by the number of values in the list, which can be derived using the `len` function."
      ]
    },
    {
      "cell_type": "code",
      "execution_count": null,
      "id": "65e9830a",
      "metadata": {
        "id": "65e9830a"
      },
      "outputs": [],
      "source": [
        "# Deforested land for each year\n",
        "deforested_land = [10, 15, 8, 12, 20]\n",
        "\n",
        "# Your code here\n",
        "average_deforested_land = sum(deforested_land)/len(deforested_land)"
      ]
    },
    {
      "cell_type": "markdown",
      "id": "5b3591ba",
      "metadata": {
        "id": "5b3591ba"
      },
      "source": [
        "Print the `average_deforested_land` variable."
      ]
    },
    {
      "cell_type": "code",
      "execution_count": null,
      "id": "7fccb10e",
      "metadata": {
        "colab": {
          "base_uri": "https://localhost:8080/"
        },
        "id": "7fccb10e",
        "outputId": "26141b0b-eb09-4e42-f234-560f95ce1139"
      },
      "outputs": [
        {
          "output_type": "stream",
          "name": "stdout",
          "text": [
            "Average Deforested Land: 13.0\n"
          ]
        }
      ],
      "source": [
        "# Your code here...\n",
        "print(\"Average Deforested Land:\", average_deforested_land)"
      ]
    },
    {
      "cell_type": "markdown",
      "metadata": {
        "id": "EDvbx66oGDOb"
      },
      "source": [
        "## Solutions"
      ],
      "id": "EDvbx66oGDOb"
    },
    {
      "cell_type": "markdown",
      "metadata": {
        "id": "8CZa89fVGDOb"
      },
      "source": [
        "### Exercise 1"
      ],
      "id": "8CZa89fVGDOb"
    },
    {
      "cell_type": "code",
      "execution_count": null,
      "metadata": {
        "id": "_KI-QenFGDOb"
      },
      "outputs": [],
      "source": [
        "# Deforested land for each year\n",
        "deforested_land = [10, 15, 8, 12, 20]\n",
        "\n",
        "# Carbon emission factor (tons of CO2 per hectare)\n",
        "carbon_emission_factor = 40\n",
        "\n",
        "# Calculate the total carbon emission using built-in functions\n",
        "total_deforested_land = sum(deforested_land)\n",
        "total_carbon_emission = total_deforested_land * carbon_emission_factor"
      ],
      "id": "_KI-QenFGDOb"
    },
    {
      "cell_type": "code",
      "execution_count": null,
      "id": "c2c26fbb",
      "metadata": {
        "colab": {
          "base_uri": "https://localhost:8080/"
        },
        "id": "c2c26fbb",
        "outputId": "8e771cde-b3a5-46ca-acb5-5834d2d1ba69"
      },
      "outputs": [
        {
          "output_type": "stream",
          "name": "stdout",
          "text": [
            "65\n",
            "2600\n"
          ]
        }
      ],
      "source": [
        "print(total_deforested_land)\n",
        "print(total_carbon_emission)"
      ]
    },
    {
      "cell_type": "markdown",
      "metadata": {
        "id": "oo8MXqywGDOc"
      },
      "source": [
        "The `sum()` function is used to calculate the total deforested land, which is then multiplied by the carbon emission factor to obtain the total carbon emission. Each of these calculations is placed in a variable, which we can print to view its value."
      ],
      "id": "oo8MXqywGDOc"
    },
    {
      "cell_type": "markdown",
      "metadata": {
        "id": "Q5E96vwIGDOc"
      },
      "source": [
        "### Exercise 2\n"
      ],
      "id": "Q5E96vwIGDOc"
    },
    {
      "cell_type": "code",
      "execution_count": null,
      "metadata": {
        "id": "K8hOGimlGDOc"
      },
      "outputs": [],
      "source": [
        "def acres_to_hectares(acres):\n",
        "    \"\"\"\n",
        "    Convert acres to hectares.\n",
        "\n",
        "    Parameters:\n",
        "    - acres (float): The area in acres.\n",
        "\n",
        "    Returns:\n",
        "    - float: The equivalent area in hectares.\n",
        "    \"\"\"\n",
        "    hectares = acres * 0.404686\n",
        "    return hectares"
      ],
      "id": "K8hOGimlGDOc"
    },
    {
      "cell_type": "code",
      "execution_count": null,
      "id": "cf109f4c",
      "metadata": {
        "id": "cf109f4c"
      },
      "outputs": [],
      "source": [
        "print(acres_to_hectares(50))"
      ]
    },
    {
      "cell_type": "markdown",
      "metadata": {
        "id": "BgwR0pVhGDOd"
      },
      "source": [
        "A function named `acres_to_hectares` is defined to convert an area from acres to hectares. The function takes the number of acres as a parameter, multiplies it by the conversion factor (1 acre = 0.404686 hectares), and returns the equivalent area in hectares. The conversion function is then used to convert an area of 50 acres to hectares, and the result is printed."
      ],
      "id": "BgwR0pVhGDOd"
    },
    {
      "cell_type": "markdown",
      "id": "2349af35",
      "metadata": {
        "id": "2349af35"
      },
      "source": [
        "### Exercise 3"
      ]
    },
    {
      "cell_type": "code",
      "execution_count": null,
      "id": "2336b058",
      "metadata": {
        "id": "2336b058"
      },
      "outputs": [],
      "source": [
        "# Deforested land for different regions\n",
        "deforested_land = [10, 15, 8, 12, 20]\n",
        "\n",
        "# Calculate the average deforested area using built-in functions\n",
        "average_deforested_land = sum(deforested_land) / len(deforested_land)"
      ]
    },
    {
      "cell_type": "code",
      "execution_count": null,
      "id": "7c8d54ab",
      "metadata": {
        "colab": {
          "base_uri": "https://localhost:8080/"
        },
        "id": "7c8d54ab",
        "outputId": "1f949c39-0d85-4c4d-8354-8e4498b10d00"
      },
      "outputs": [
        {
          "output_type": "stream",
          "name": "stdout",
          "text": [
            "13.0\n"
          ]
        }
      ],
      "source": [
        "print(average_deforested_land)"
      ]
    },
    {
      "cell_type": "markdown",
      "id": "26fd094b-0fee-46f1-a4b8-73766813c42b",
      "metadata": {
        "tags": [],
        "id": "26fd094b-0fee-46f1-a4b8-73766813c42b"
      },
      "source": [
        "#  \n",
        "\n",
        "<div align=\"center\" style=\" font-size: 80%; text-align: center; margin: 0 auto\">\n",
        "<img src=\"https://raw.githubusercontent.com/Explore-AI/Pictures/master/ExploreAI_logos/EAI_Blue_Dark.png\"  style=\"width:200px\";/>\n",
        "</div>"
      ]
    }
  ],
  "metadata": {
    "kernelspec": {
      "display_name": "Python 3 (ipykernel)",
      "language": "python",
      "name": "python3"
    },
    "language_info": {
      "codemirror_mode": {
        "name": "ipython",
        "version": 3
      },
      "file_extension": ".py",
      "mimetype": "text/x-python",
      "name": "python",
      "nbconvert_exporter": "python",
      "pygments_lexer": "ipython3",
      "version": "3.11.4"
    },
    "colab": {
      "provenance": []
    }
  },
  "nbformat": 4,
  "nbformat_minor": 5
}